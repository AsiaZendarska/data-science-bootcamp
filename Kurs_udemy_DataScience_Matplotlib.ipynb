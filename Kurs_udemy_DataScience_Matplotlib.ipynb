{
  "nbformat": 4,
  "nbformat_minor": 0,
  "metadata": {
    "colab": {
      "provenance": [],
      "toc_visible": true,
      "authorship_tag": "ABX9TyP1/bl3SjqangM/VVeKRdOL",
      "include_colab_link": true
    },
    "kernelspec": {
      "name": "python3",
      "display_name": "Python 3"
    },
    "language_info": {
      "name": "python"
    }
  },
  "cells": [
    {
      "cell_type": "markdown",
      "metadata": {
        "id": "view-in-github",
        "colab_type": "text"
      },
      "source": [
        "<a href=\"https://colab.research.google.com/github/AsiaZendarska/data-science-bootcamp/blob/main/Kurs_udemy_DataScience_Matplotlib.ipynb\" target=\"_parent\"><img src=\"https://colab.research.google.com/assets/colab-badge.svg\" alt=\"Open In Colab\"/></a>"
      ]
    },
    {
      "cell_type": "markdown",
      "source": [
        "# MATPLOTLIB\n",
        "Biblioteka do wizualizacji danych, która umożliwia tworzenie wykresów i wizualizacji interaktywnych i statycznych.\n",
        "\n",
        "Strona biblioteki: https://matplotlib.org/\n",
        "\n",
        "Dokumentacja: https://matplotlib.org/contents.html\n",
        "\n",
        "pip install matplotlib"
      ],
      "metadata": {
        "id": "UrlFNyyEhGrr"
      }
    },
    {
      "cell_type": "markdown",
      "source": [
        "## Wykres liniowy"
      ],
      "metadata": {
        "id": "Wr1DJcj5jSF1"
      }
    },
    {
      "cell_type": "code",
      "source": [],
      "metadata": {
        "id": "Kq-9ndVajRVy"
      },
      "execution_count": null,
      "outputs": []
    },
    {
      "cell_type": "markdown",
      "source": [
        "## Tworzenie wielu wykresów"
      ],
      "metadata": {
        "id": "vOSpmIkOjUGW"
      }
    },
    {
      "cell_type": "code",
      "source": [],
      "metadata": {
        "id": "_-907FkAhL4J"
      },
      "execution_count": null,
      "outputs": []
    },
    {
      "cell_type": "markdown",
      "source": [
        "## Wykresy słupkowe"
      ],
      "metadata": {
        "id": "ef9-bTxWjXCI"
      }
    },
    {
      "cell_type": "code",
      "source": [],
      "metadata": {
        "id": "4qKXe9FIjZsM"
      },
      "execution_count": null,
      "outputs": []
    },
    {
      "cell_type": "markdown",
      "source": [
        "## Wykresy punktowe"
      ],
      "metadata": {
        "id": "ARwIonlyjZ4P"
      }
    },
    {
      "cell_type": "code",
      "source": [],
      "metadata": {
        "id": "L7ZAlernjuSW"
      },
      "execution_count": null,
      "outputs": []
    }
  ]
}